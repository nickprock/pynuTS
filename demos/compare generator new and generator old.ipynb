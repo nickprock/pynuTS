{
 "cells": [
  {
   "cell_type": "markdown",
   "id": "alleged-particular",
   "metadata": {},
   "source": [
    "# Experiments on Time series generation as ARIMA\n",
    "\n"
   ]
  },
  {
   "cell_type": "code",
   "execution_count": 1,
   "id": "innovative-bankruptcy",
   "metadata": {},
   "outputs": [],
   "source": [
    "# automatically reaload libraries (useful when working on libraries while playing with the notebook)\n",
    "%load_ext autoreload\n",
    "%autoreload 2"
   ]
  },
  {
   "cell_type": "code",
   "execution_count": 2,
   "id": "soviet-touch",
   "metadata": {},
   "outputs": [],
   "source": [
    "import datetime\n",
    "from pathlib import Path\n",
    "\n",
    "def save_new_csv(s,path='.',root_name='test_ts',freq='H',start_time=None,columns=['Timestamp','Value']):    \n",
    "    csv_path = get_free_random_path(path,root_name,'csv')\n",
    "    s_csv = with_ts_index(s,freq,start_time)\n",
    "    s_csv.index.name,s_csv.name=columns\n",
    "    s_csv.to_csv(csv_path)\n",
    "    return(csv_path)\n",
    "    \n",
    "def with_ts_index(s,freq='H',start_time=None):\n",
    "    if start_time is None :\n",
    "        now = datetime.datetime.now()\n",
    "        start_time = datetime.datetime(now.year-1,now.month,1)\n",
    "    index = pd.date_range(start=start_time,freq=freq,periods=len(s))\n",
    "    s_ts = s.copy()\n",
    "    s_ts.index = index\n",
    "    return s_ts\n",
    "\n",
    "def get_free_random_path(path,root_name,extension):\n",
    "    while (free_path := Path(path)/(f'{root_name}_{random.randint(0,1000):04d}.{extension}')).exists():\n",
    "        pass\n",
    "    return free_path\n"
   ]
  },
  {
   "cell_type": "markdown",
   "id": "differential-envelope",
   "metadata": {},
   "source": [
    "## ARMA models"
   ]
  },
  {
   "cell_type": "code",
   "execution_count": 3,
   "id": "suspected-night",
   "metadata": {},
   "outputs": [],
   "source": [
    "# allow import from parent directory\n",
    "import sys,os\n",
    "sys.path.append(os.getcwd() + '/..')"
   ]
  },
  {
   "cell_type": "code",
   "execution_count": 4,
   "id": "difficult-latin",
   "metadata": {},
   "outputs": [],
   "source": [
    "import pandas as pd\n",
    "import numpy as np\n",
    "import random\n",
    "import matplotlib.pyplot as plt"
   ]
  },
  {
   "cell_type": "code",
   "execution_count": 5,
   "id": "instrumental-palestinian",
   "metadata": {},
   "outputs": [],
   "source": [
    "# import helper functions for dataset generation\n",
    "# from ts_gen import make_binary_code_dataset,make_flat_dataset,make_slopes_dataset\n",
    "# import helper functions for dataset visualization\n",
    "from ts_viz import plot_list_of_ts,plot_list_of_ts_over_subplots\n",
    "# import helper functions to adjust list of series according to output of the clustering\n",
    "# from ts_utils import get_clustered_list"
   ]
  },
  {
   "cell_type": "code",
   "execution_count": 41,
   "id": "spoken-hudson",
   "metadata": {},
   "outputs": [],
   "source": [
    "import generator_old as gold\n",
    "import generator as gnew"
   ]
  },
  {
   "cell_type": "markdown",
   "id": "imposed-spread",
   "metadata": {},
   "source": [
    "\n",
    "\n",
    "### [Autoregressive model](https://en.wikipedia.org/wiki/Autoregressive_model)\n",
    "\n",
    "the notation AR(p) refers to the autoregressive model of order p. The AR(p) model is written\n",
    "\n",
    "![AR equation](img/ar.svg)\n",
    "\n",
    "where $\\varphi _{1},\\ldots ,\\varphi _{p}$ are parameters, c is a constant, and the random variable $\\varepsilon _{t}$ is white noise. The value of p is called the order of the AR model.\n",
    "\n",
    "Some constraints are necessary on the values of the parameters so that the model remains stationary. For example, processes in the AR(1) model with ${\\displaystyle |\\varphi _{1}|\\geq 1}$ are not stationary."
   ]
  },
  {
   "cell_type": "code",
   "execution_count": 42,
   "id": "prerequisite-brick",
   "metadata": {},
   "outputs": [
    {
     "name": "stdout",
     "output_type": "stream",
     "text": [
      "          0         1         2         3         4\n",
      "0  0.941715 -1.396578 -0.679714  0.370504 -1.016349\n",
      "1 -0.072120  0.107076 -0.709599 -2.047263 -1.700748\n",
      "2  2.993250  4.346268  4.515975  7.485138  8.542069\n",
      "          0         1         2         3         4\n",
      "0  0.941715 -1.396578 -0.679714  0.370504 -1.016349\n",
      "1 -0.072120  0.107076 -0.709599 -2.047263 -1.700748\n",
      "2  2.993250  4.346268  4.515975  7.485138  8.542069\n"
     ]
    },
    {
     "name": "stderr",
     "output_type": "stream",
     "text": [
      "old ARMA\n",
      "old ARMA\n",
      "old ARMA\n",
      "new BaseARMAGenerator\n",
      "new BaseARMAGenerator\n",
      "new BaseARMAGenerator\n"
     ]
    },
    {
     "data": {
      "text/plain": [
       "True"
      ]
     },
     "execution_count": 42,
     "metadata": {},
     "output_type": "execute_result"
    }
   ],
   "source": [
    "param_list = [{'c' : 0, 'pcoeff' : []},\n",
    "              {'c' : 0, 'pcoeff' : [1,-0.2,0.1]},\n",
    "              {'c' : 2, 'pcoeff' : [1,-0.5,0.5,-0.1]},]\n",
    "\n",
    "samples_per_model = 1\n",
    "\n",
    "np.random.seed(0)\n",
    "random.seed(0)\n",
    "\n",
    "list_of_series_old = []\n",
    "for i,params in enumerate(param_list):\n",
    "    for _ in range(samples_per_model):\n",
    "        ar = gold.AR(**params)\n",
    "        list_of_series_old.append(pd.Series(ar.generate(n=5),name=i))\n",
    "print(pd.DataFrame(list_of_series_old))\n",
    "\n",
    "np.random.seed(0)\n",
    "random.seed(0)\n",
    "\n",
    "list_of_series_new = []\n",
    "for i,params in enumerate(param_list):\n",
    "    for _ in range(samples_per_model):\n",
    "        ar = gnew.AR(**params)\n",
    "        list_of_series_new.append(pd.Series(ar.generate(n=5),name=i))\n",
    "print(pd.DataFrame(list_of_series_new))\n",
    "\n",
    "np.all((pd.DataFrame(list_of_series_old)==pd.DataFrame(list_of_series_new)).values)"
   ]
  },
  {
   "cell_type": "code",
   "execution_count": 43,
   "id": "cellular-ebony",
   "metadata": {},
   "outputs": [
    {
     "data": {
      "text/html": [
       "<div>\n",
       "<style scoped>\n",
       "    .dataframe tbody tr th:only-of-type {\n",
       "        vertical-align: middle;\n",
       "    }\n",
       "\n",
       "    .dataframe tbody tr th {\n",
       "        vertical-align: top;\n",
       "    }\n",
       "\n",
       "    .dataframe thead th {\n",
       "        text-align: right;\n",
       "    }\n",
       "</style>\n",
       "<table border=\"1\" class=\"dataframe\">\n",
       "  <thead>\n",
       "    <tr style=\"text-align: right;\">\n",
       "      <th></th>\n",
       "      <th>0</th>\n",
       "      <th>1</th>\n",
       "      <th>2</th>\n",
       "      <th>3</th>\n",
       "      <th>4</th>\n",
       "    </tr>\n",
       "  </thead>\n",
       "  <tbody>\n",
       "    <tr>\n",
       "      <th>0</th>\n",
       "      <td>0.941715</td>\n",
       "      <td>-1.396578</td>\n",
       "      <td>-0.679714</td>\n",
       "      <td>0.370504</td>\n",
       "      <td>-1.016349</td>\n",
       "    </tr>\n",
       "    <tr>\n",
       "      <th>1</th>\n",
       "      <td>-0.072120</td>\n",
       "      <td>0.107076</td>\n",
       "      <td>-0.709599</td>\n",
       "      <td>-2.047263</td>\n",
       "      <td>-1.700748</td>\n",
       "    </tr>\n",
       "    <tr>\n",
       "      <th>2</th>\n",
       "      <td>2.993250</td>\n",
       "      <td>4.346268</td>\n",
       "      <td>4.515975</td>\n",
       "      <td>7.485138</td>\n",
       "      <td>8.542069</td>\n",
       "    </tr>\n",
       "  </tbody>\n",
       "</table>\n",
       "</div>"
      ],
      "text/plain": [
       "          0         1         2         3         4\n",
       "0  0.941715 -1.396578 -0.679714  0.370504 -1.016349\n",
       "1 -0.072120  0.107076 -0.709599 -2.047263 -1.700748\n",
       "2  2.993250  4.346268  4.515975  7.485138  8.542069"
      ]
     },
     "execution_count": 43,
     "metadata": {},
     "output_type": "execute_result"
    }
   ],
   "source": [
    "pd.DataFrame(list_of_series)"
   ]
  },
  {
   "cell_type": "code",
   "execution_count": 44,
   "id": "loving-conversion",
   "metadata": {},
   "outputs": [
    {
     "data": {
      "text/html": [
       "<div>\n",
       "<style scoped>\n",
       "    .dataframe tbody tr th:only-of-type {\n",
       "        vertical-align: middle;\n",
       "    }\n",
       "\n",
       "    .dataframe tbody tr th {\n",
       "        vertical-align: top;\n",
       "    }\n",
       "\n",
       "    .dataframe thead th {\n",
       "        text-align: right;\n",
       "    }\n",
       "</style>\n",
       "<table border=\"1\" class=\"dataframe\">\n",
       "  <thead>\n",
       "    <tr style=\"text-align: right;\">\n",
       "      <th></th>\n",
       "      <th>0</th>\n",
       "      <th>1</th>\n",
       "      <th>2</th>\n",
       "      <th>3</th>\n",
       "      <th>4</th>\n",
       "    </tr>\n",
       "  </thead>\n",
       "  <tbody>\n",
       "    <tr>\n",
       "      <th>0</th>\n",
       "      <td>0.941715</td>\n",
       "      <td>-1.396578</td>\n",
       "      <td>-0.679714</td>\n",
       "      <td>0.370504</td>\n",
       "      <td>-1.016349</td>\n",
       "    </tr>\n",
       "    <tr>\n",
       "      <th>1</th>\n",
       "      <td>-0.072120</td>\n",
       "      <td>0.107076</td>\n",
       "      <td>-0.709599</td>\n",
       "      <td>-2.047263</td>\n",
       "      <td>-1.700748</td>\n",
       "    </tr>\n",
       "    <tr>\n",
       "      <th>2</th>\n",
       "      <td>2.993250</td>\n",
       "      <td>4.346268</td>\n",
       "      <td>4.515975</td>\n",
       "      <td>7.485138</td>\n",
       "      <td>8.542069</td>\n",
       "    </tr>\n",
       "  </tbody>\n",
       "</table>\n",
       "</div>"
      ],
      "text/plain": [
       "          0         1         2         3         4\n",
       "0  0.941715 -1.396578 -0.679714  0.370504 -1.016349\n",
       "1 -0.072120  0.107076 -0.709599 -2.047263 -1.700748\n",
       "2  2.993250  4.346268  4.515975  7.485138  8.542069"
      ]
     },
     "execution_count": 44,
     "metadata": {},
     "output_type": "execute_result"
    }
   ],
   "source": [
    "pd.DataFrame(list_of_series)"
   ]
  },
  {
   "cell_type": "markdown",
   "id": "average-mumbai",
   "metadata": {},
   "source": [
    "\n",
    "\n",
    "### [Moving-Average model](https://en.wikipedia.org/wiki/Moving-average_model)\n",
    "\n",
    "The notation MA(q) refers to the moving average model of order q:\n",
    "\n",
    "![MA equation](img/ma.svg)\n",
    "\n",
    "where μ is the mean of the series, the $\\theta _{1},\\ldots ,\\theta _{q}$ are the parameters of the model and the  $\\varepsilon _{t}, \\varepsilon _{t-1},\\ldots ,\\varepsilon _{t-q}$ are white noise error terms. The value of q is called the order of the MA model"
   ]
  },
  {
   "cell_type": "code",
   "execution_count": 45,
   "id": "uniform-sodium",
   "metadata": {},
   "outputs": [
    {
     "name": "stdout",
     "output_type": "stream",
     "text": [
      "          0         1         2         3         4\n",
      "0  0.941715 -1.396578 -0.679714  0.370504 -1.016349\n",
      "1 -0.072120  0.107076 -0.651903 -2.140137 -1.115150\n",
      "2  0.993250  4.319267  0.404423  0.369154  7.373601\n",
      "          0         1         2         3         4\n",
      "0  0.941715 -1.396578 -0.679714  0.370504 -1.016349\n",
      "1 -0.072120  0.107076 -0.651903 -2.140137 -1.115150\n",
      "2  0.993250  4.319267  0.404423  0.369154  7.373601\n"
     ]
    },
    {
     "name": "stderr",
     "output_type": "stream",
     "text": [
      "old ARMA\n",
      "old ARMA\n",
      "old ARMA\n",
      "new BaseARMAGenerator\n",
      "new BaseARMAGenerator\n",
      "new BaseARMAGenerator\n"
     ]
    },
    {
     "data": {
      "text/plain": [
       "True"
      ]
     },
     "execution_count": 45,
     "metadata": {},
     "output_type": "execute_result"
    }
   ],
   "source": [
    "\n",
    "param_list = [{'c' : 0, 'qcoeff' : []},\n",
    "              {'c' : 0, 'qcoeff' : [1]},\n",
    "              {'c' : 0, 'qcoeff' : [5,4,3,3,3,3,2,1]}]\n",
    "\n",
    "\n",
    "samples_per_model = 1\n",
    "\n",
    "np.random.seed(0)\n",
    "random.seed(0)\n",
    "\n",
    "list_of_series_old = []\n",
    "for i,params in enumerate(param_list):\n",
    "    for _ in range(samples_per_model):\n",
    "        ma = gold.MA(**params)\n",
    "        list_of_series_old.append(pd.Series(ma.generate(n=5),name=i))\n",
    "print(pd.DataFrame(list_of_series_old))\n",
    "\n",
    "np.random.seed(0)\n",
    "random.seed(0)\n",
    "\n",
    "list_of_series_new = []\n",
    "for i,params in enumerate(param_list):\n",
    "    for _ in range(samples_per_model):\n",
    "        ma = gnew.MA(**params)\n",
    "        list_of_series_new.append(pd.Series(ma.generate(n=5),name=i))\n",
    "print(pd.DataFrame(list_of_series_new))\n",
    "\n",
    "np.all((pd.DataFrame(list_of_series_old)==pd.DataFrame(list_of_series_new)).values)"
   ]
  },
  {
   "cell_type": "code",
   "execution_count": 46,
   "id": "boring-rebound",
   "metadata": {},
   "outputs": [
    {
     "name": "stderr",
     "output_type": "stream",
     "text": [
      "old ARMA\n",
      "new BaseARMAGenerator\n"
     ]
    }
   ],
   "source": [
    "ma_old = gold.MA(qcoeff=[1])\n",
    "ma_new = gnew.MA(qcoeff=[1])\n"
   ]
  },
  {
   "cell_type": "code",
   "execution_count": 47,
   "id": "opening-witness",
   "metadata": {},
   "outputs": [
    {
     "data": {
      "text/plain": [
       "[0.9417154046806644, -0.45486270002048546]"
      ]
     },
     "execution_count": 47,
     "metadata": {},
     "output_type": "execute_result"
    }
   ],
   "source": [
    "np.random.seed(0)\n",
    "random.seed(0)\n",
    "\n",
    "ma_old.generate(2)\n"
   ]
  },
  {
   "cell_type": "code",
   "execution_count": 48,
   "id": "psychological-bridge",
   "metadata": {},
   "outputs": [
    {
     "data": {
      "text/plain": [
       "[0.9417154046806644, -0.45486270002048546]"
      ]
     },
     "execution_count": 48,
     "metadata": {},
     "output_type": "execute_result"
    }
   ],
   "source": [
    "np.random.seed(0)\n",
    "random.seed(0)\n",
    "\n",
    "ma_new.generate(2)\n"
   ]
  },
  {
   "cell_type": "code",
   "execution_count": 49,
   "id": "supported-depth",
   "metadata": {},
   "outputs": [
    {
     "data": {
      "text/plain": [
       "ARMA(pcoeff=[], qcoeff=[1], c=0.0, sigma=1.0, e_buff=deque([-1.3965781047011498], maxlen=1), x_buff=deque([], maxlen=0))"
      ]
     },
     "execution_count": 49,
     "metadata": {},
     "output_type": "execute_result"
    }
   ],
   "source": [
    "ma_old._model"
   ]
  },
  {
   "cell_type": "code",
   "execution_count": 50,
   "id": "binding-operation",
   "metadata": {},
   "outputs": [
    {
     "data": {
      "text/plain": [
       "SARIMA(c=0.0, pcoeff=[], d=0, qcoeff=[1], Pcoeff=[], D=0, Qcoeff=[], m=0, sigma=1.0, e_buff=[], x_buff=[])"
      ]
     },
     "execution_count": 50,
     "metadata": {},
     "output_type": "execute_result"
    }
   ],
   "source": [
    "ma_new.wrapped_sarima"
   ]
  },
  {
   "cell_type": "code",
   "execution_count": 51,
   "id": "ignored-roots",
   "metadata": {},
   "outputs": [
    {
     "data": {
      "text/plain": [
       "BaseARMAGenerator(phi_coeff=[], theta_coeff=[1.0], c=0.0, sigma=1.0, e_buff=[], x_buff=[])"
      ]
     },
     "execution_count": 51,
     "metadata": {},
     "output_type": "execute_result"
    }
   ],
   "source": [
    "ma_new.wrapped_sarima._generator"
   ]
  },
  {
   "cell_type": "code",
   "execution_count": null,
   "id": "precise-tourist",
   "metadata": {},
   "outputs": [],
   "source": []
  }
 ],
 "metadata": {
  "kernelspec": {
   "display_name": "Python 3",
   "language": "python",
   "name": "python3"
  },
  "language_info": {
   "codemirror_mode": {
    "name": "ipython",
    "version": 3
   },
   "file_extension": ".py",
   "mimetype": "text/x-python",
   "name": "python",
   "nbconvert_exporter": "python",
   "pygments_lexer": "ipython3",
   "version": "3.9.1"
  }
 },
 "nbformat": 4,
 "nbformat_minor": 5
}
